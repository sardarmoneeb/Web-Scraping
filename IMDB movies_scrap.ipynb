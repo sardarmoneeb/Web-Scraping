{
 "cells": [
  {
   "cell_type": "code",
   "execution_count": 10,
   "id": "da294379-f596-4527-97a9-df2c13fd346f",
   "metadata": {},
   "outputs": [],
   "source": [
    "import os\n",
    "import time\n",
    "from selenium import webdriver\n",
    "from selenium.webdriver.common.by import By\n",
    "webdriver_path = r\"C:/Users/PMLS/Desktop/My program/Web Scraping/WebdriverSelenium/chrome-win64\"\n",
    "os.environ['PATH'] += webdriver_path\n",
    "driver = webdriver.Chrome()\n",
    "driver.get(\"https://www.imdb.com/chart/top/\")\n"
   ]
  },
  {
   "cell_type": "code",
   "execution_count": 8,
   "id": "68350c09-25cf-4080-9246-a520dd53ffc3",
   "metadata": {},
   "outputs": [
    {
     "name": "stdout",
     "output_type": "stream",
     "text": [
      "Successfully navigated to IMDB Top 250 Movies page.\n"
     ]
    }
   ],
   "source": [
    "import os\n",
    "import time\n",
    "from selenium import webdriver\n",
    "from selenium.webdriver.common.by import By\n",
    "\n",
    "# Set the webdriver path\n",
    "webdriver_path = r\"C:/Users/PMLS/Desktop/My program/Web Scraping/WebdriverSelenium/chrome-win64\"\n",
    "os.environ['PATH'] += webdriver_path\n",
    "\n",
    "# Initialize the Chrome WebDriver\n",
    "driver = webdriver.Chrome()\n",
    "\n",
    "# Navigate to the IMDB Top 250 Movies page\n",
    "driver.get(\"https://www.imdb.com/chart/top/\")\n",
    "\n",
    "# Optionally, add a small delay to let the page load\n",
    "time.sleep(3)\n",
    "\n",
    "print(\"Successfully navigated to IMDB Top 250 Movies page.\")\n"
   ]
  },
  {
   "cell_type": "code",
   "execution_count": null,
   "id": "54606e67-2851-4f54-b51f-5094fef2124c",
   "metadata": {},
   "outputs": [],
   "source": []
  }
 ],
 "metadata": {
  "kernelspec": {
   "display_name": "Python 3 (ipykernel)",
   "language": "python",
   "name": "python3"
  },
  "language_info": {
   "codemirror_mode": {
    "name": "ipython",
    "version": 3
   },
   "file_extension": ".py",
   "mimetype": "text/x-python",
   "name": "python",
   "nbconvert_exporter": "python",
   "pygments_lexer": "ipython3",
   "version": "3.12.7"
  }
 },
 "nbformat": 4,
 "nbformat_minor": 5
}
