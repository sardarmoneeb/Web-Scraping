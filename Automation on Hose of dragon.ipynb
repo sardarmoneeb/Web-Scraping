{
 "cells": [
  {
   "cell_type": "code",
   "execution_count": 67,
   "id": "8f751312-edcc-497d-ade0-d9f851f496cc",
   "metadata": {},
   "outputs": [
    {
     "ename": "NoSuchWindowException",
     "evalue": "Message: no such window: target window already closed\nfrom unknown error: web view not found\n  (Session info: chrome=132.0.6834.84)\nStacktrace:\n\tGetHandleVerifier [0x00007FF701FEFBE5+28741]\n\t(No symbol) [0x00007FF701F57890]\n\t(No symbol) [0x00007FF701DF4FDA]\n\t(No symbol) [0x00007FF701DCED45]\n\t(No symbol) [0x00007FF701E76EC7]\n\t(No symbol) [0x00007FF701E8F982]\n\t(No symbol) [0x00007FF701E6FCB3]\n\t(No symbol) [0x00007FF701E39FB3]\n\t(No symbol) [0x00007FF701E3B331]\n\tGetHandleVerifier [0x00007FF70232A73D+3414941]\n\tGetHandleVerifier [0x00007FF70233E64A+3496618]\n\tGetHandleVerifier [0x00007FF70233413D+3454365]\n\tGetHandleVerifier [0x00007FF7020B848B+850155]\n\t(No symbol) [0x00007FF701F637FF]\n\t(No symbol) [0x00007FF701F5F0C4]\n\t(No symbol) [0x00007FF701F5F25D]\n\t(No symbol) [0x00007FF701F4E079]\n\tBaseThreadInitThunk [0x00007FFF3FF07374+20]\n\tRtlUserThreadStart [0x00007FFF4169CC91+33]\n",
     "output_type": "error",
     "traceback": [
      "\u001b[1;31m---------------------------------------------------------------------------\u001b[0m",
      "\u001b[1;31mNoSuchWindowException\u001b[0m                     Traceback (most recent call last)",
      "Cell \u001b[1;32mIn[67], line 32\u001b[0m\n\u001b[0;32m     27\u001b[0m link \u001b[38;5;241m=\u001b[39m WebDriverWait(driver, \u001b[38;5;241m10\u001b[39m)\u001b[38;5;241m.\u001b[39muntil(\n\u001b[0;32m     28\u001b[0m     EC\u001b[38;5;241m.\u001b[39melement_to_be_clickable((By\u001b[38;5;241m.\u001b[39mXPATH, \u001b[38;5;124m\"\"\"\u001b[39m\u001b[38;5;124m//*[@id=\u001b[39m\u001b[38;5;124m\"\u001b[39m\u001b[38;5;124mkp-wp-tab-overview\u001b[39m\u001b[38;5;124m\"\u001b[39m\u001b[38;5;124m]/div[7]/div/div/div/div/div/div/div[1]/div/div/span/a\u001b[39m\u001b[38;5;124m\"\"\"\u001b[39m))\n\u001b[0;32m     29\u001b[0m )\n\u001b[0;32m     30\u001b[0m link\u001b[38;5;241m.\u001b[39mclick()\n\u001b[1;32m---> 32\u001b[0m driver\u001b[38;5;241m.\u001b[39msave_screenshot(\u001b[38;5;124mr\u001b[39m\u001b[38;5;124m\"\u001b[39m\u001b[38;5;124mC:/Seleniumdrivers/dragon1.png\u001b[39m\u001b[38;5;124m\"\u001b[39m)\n",
      "File \u001b[1;32m~\\anaconda3\\Lib\\site-packages\\selenium\\webdriver\\remote\\webdriver.py:839\u001b[0m, in \u001b[0;36mWebDriver.save_screenshot\u001b[1;34m(self, filename)\u001b[0m\n\u001b[0;32m    825\u001b[0m \u001b[38;5;28;01mdef\u001b[39;00m \u001b[38;5;21msave_screenshot\u001b[39m(\u001b[38;5;28mself\u001b[39m, filename) \u001b[38;5;241m-\u001b[39m\u001b[38;5;241m>\u001b[39m \u001b[38;5;28mbool\u001b[39m:\n\u001b[0;32m    826\u001b[0m \u001b[38;5;250m    \u001b[39m\u001b[38;5;124;03m\"\"\"Saves a screenshot of the current window to a PNG image file.\u001b[39;00m\n\u001b[0;32m    827\u001b[0m \u001b[38;5;124;03m    Returns False if there is any IOError, else returns True. Use full\u001b[39;00m\n\u001b[0;32m    828\u001b[0m \u001b[38;5;124;03m    paths in your filename.\u001b[39;00m\n\u001b[1;32m   (...)\u001b[0m\n\u001b[0;32m    837\u001b[0m \u001b[38;5;124;03m            driver.save_screenshot('/Screenshots/foo.png')\u001b[39;00m\n\u001b[0;32m    838\u001b[0m \u001b[38;5;124;03m    \"\"\"\u001b[39;00m\n\u001b[1;32m--> 839\u001b[0m     \u001b[38;5;28;01mreturn\u001b[39;00m \u001b[38;5;28mself\u001b[39m\u001b[38;5;241m.\u001b[39mget_screenshot_as_file(filename)\n",
      "File \u001b[1;32m~\\anaconda3\\Lib\\site-packages\\selenium\\webdriver\\remote\\webdriver.py:815\u001b[0m, in \u001b[0;36mWebDriver.get_screenshot_as_file\u001b[1;34m(self, filename)\u001b[0m\n\u001b[0;32m    809\u001b[0m \u001b[38;5;28;01mif\u001b[39;00m \u001b[38;5;129;01mnot\u001b[39;00m \u001b[38;5;28mstr\u001b[39m(filename)\u001b[38;5;241m.\u001b[39mlower()\u001b[38;5;241m.\u001b[39mendswith(\u001b[38;5;124m\"\u001b[39m\u001b[38;5;124m.png\u001b[39m\u001b[38;5;124m\"\u001b[39m):\n\u001b[0;32m    810\u001b[0m     warnings\u001b[38;5;241m.\u001b[39mwarn(\n\u001b[0;32m    811\u001b[0m         \u001b[38;5;124m\"\u001b[39m\u001b[38;5;124mname used for saved screenshot does not match file type. It should end with a `.png` extension\u001b[39m\u001b[38;5;124m\"\u001b[39m,\n\u001b[0;32m    812\u001b[0m         \u001b[38;5;167;01mUserWarning\u001b[39;00m,\n\u001b[0;32m    813\u001b[0m         stacklevel\u001b[38;5;241m=\u001b[39m\u001b[38;5;241m2\u001b[39m,\n\u001b[0;32m    814\u001b[0m     )\n\u001b[1;32m--> 815\u001b[0m png \u001b[38;5;241m=\u001b[39m \u001b[38;5;28mself\u001b[39m\u001b[38;5;241m.\u001b[39mget_screenshot_as_png()\n\u001b[0;32m    816\u001b[0m \u001b[38;5;28;01mtry\u001b[39;00m:\n\u001b[0;32m    817\u001b[0m     \u001b[38;5;28;01mwith\u001b[39;00m \u001b[38;5;28mopen\u001b[39m(filename, \u001b[38;5;124m\"\u001b[39m\u001b[38;5;124mwb\u001b[39m\u001b[38;5;124m\"\u001b[39m) \u001b[38;5;28;01mas\u001b[39;00m f:\n",
      "File \u001b[1;32m~\\anaconda3\\Lib\\site-packages\\selenium\\webdriver\\remote\\webdriver.py:849\u001b[0m, in \u001b[0;36mWebDriver.get_screenshot_as_png\u001b[1;34m(self)\u001b[0m\n\u001b[0;32m    841\u001b[0m \u001b[38;5;28;01mdef\u001b[39;00m \u001b[38;5;21mget_screenshot_as_png\u001b[39m(\u001b[38;5;28mself\u001b[39m) \u001b[38;5;241m-\u001b[39m\u001b[38;5;241m>\u001b[39m \u001b[38;5;28mbytes\u001b[39m:\n\u001b[0;32m    842\u001b[0m \u001b[38;5;250m    \u001b[39m\u001b[38;5;124;03m\"\"\"Gets the screenshot of the current window as a binary data.\u001b[39;00m\n\u001b[0;32m    843\u001b[0m \n\u001b[0;32m    844\u001b[0m \u001b[38;5;124;03m    :Usage:\u001b[39;00m\n\u001b[1;32m   (...)\u001b[0m\n\u001b[0;32m    847\u001b[0m \u001b[38;5;124;03m            driver.get_screenshot_as_png()\u001b[39;00m\n\u001b[0;32m    848\u001b[0m \u001b[38;5;124;03m    \"\"\"\u001b[39;00m\n\u001b[1;32m--> 849\u001b[0m     \u001b[38;5;28;01mreturn\u001b[39;00m b64decode(\u001b[38;5;28mself\u001b[39m\u001b[38;5;241m.\u001b[39mget_screenshot_as_base64()\u001b[38;5;241m.\u001b[39mencode(\u001b[38;5;124m\"\u001b[39m\u001b[38;5;124mascii\u001b[39m\u001b[38;5;124m\"\u001b[39m))\n",
      "File \u001b[1;32m~\\anaconda3\\Lib\\site-packages\\selenium\\webdriver\\remote\\webdriver.py:860\u001b[0m, in \u001b[0;36mWebDriver.get_screenshot_as_base64\u001b[1;34m(self)\u001b[0m\n\u001b[0;32m    851\u001b[0m \u001b[38;5;28;01mdef\u001b[39;00m \u001b[38;5;21mget_screenshot_as_base64\u001b[39m(\u001b[38;5;28mself\u001b[39m) \u001b[38;5;241m-\u001b[39m\u001b[38;5;241m>\u001b[39m \u001b[38;5;28mstr\u001b[39m:\n\u001b[0;32m    852\u001b[0m \u001b[38;5;250m    \u001b[39m\u001b[38;5;124;03m\"\"\"Gets the screenshot of the current window as a base64 encoded string\u001b[39;00m\n\u001b[0;32m    853\u001b[0m \u001b[38;5;124;03m    which is useful in embedded images in HTML.\u001b[39;00m\n\u001b[0;32m    854\u001b[0m \n\u001b[1;32m   (...)\u001b[0m\n\u001b[0;32m    858\u001b[0m \u001b[38;5;124;03m            driver.get_screenshot_as_base64()\u001b[39;00m\n\u001b[0;32m    859\u001b[0m \u001b[38;5;124;03m    \"\"\"\u001b[39;00m\n\u001b[1;32m--> 860\u001b[0m     \u001b[38;5;28;01mreturn\u001b[39;00m \u001b[38;5;28mself\u001b[39m\u001b[38;5;241m.\u001b[39mexecute(Command\u001b[38;5;241m.\u001b[39mSCREENSHOT)[\u001b[38;5;124m\"\u001b[39m\u001b[38;5;124mvalue\u001b[39m\u001b[38;5;124m\"\u001b[39m]\n",
      "File \u001b[1;32m~\\anaconda3\\Lib\\site-packages\\selenium\\webdriver\\remote\\webdriver.py:380\u001b[0m, in \u001b[0;36mWebDriver.execute\u001b[1;34m(self, driver_command, params)\u001b[0m\n\u001b[0;32m    378\u001b[0m response \u001b[38;5;241m=\u001b[39m \u001b[38;5;28mself\u001b[39m\u001b[38;5;241m.\u001b[39mcommand_executor\u001b[38;5;241m.\u001b[39mexecute(driver_command, params)\n\u001b[0;32m    379\u001b[0m \u001b[38;5;28;01mif\u001b[39;00m response:\n\u001b[1;32m--> 380\u001b[0m     \u001b[38;5;28mself\u001b[39m\u001b[38;5;241m.\u001b[39merror_handler\u001b[38;5;241m.\u001b[39mcheck_response(response)\n\u001b[0;32m    381\u001b[0m     response[\u001b[38;5;124m\"\u001b[39m\u001b[38;5;124mvalue\u001b[39m\u001b[38;5;124m\"\u001b[39m] \u001b[38;5;241m=\u001b[39m \u001b[38;5;28mself\u001b[39m\u001b[38;5;241m.\u001b[39m_unwrap_value(response\u001b[38;5;241m.\u001b[39mget(\u001b[38;5;124m\"\u001b[39m\u001b[38;5;124mvalue\u001b[39m\u001b[38;5;124m\"\u001b[39m, \u001b[38;5;28;01mNone\u001b[39;00m))\n\u001b[0;32m    382\u001b[0m     \u001b[38;5;28;01mreturn\u001b[39;00m response\n",
      "File \u001b[1;32m~\\anaconda3\\Lib\\site-packages\\selenium\\webdriver\\remote\\errorhandler.py:229\u001b[0m, in \u001b[0;36mErrorHandler.check_response\u001b[1;34m(self, response)\u001b[0m\n\u001b[0;32m    227\u001b[0m         alert_text \u001b[38;5;241m=\u001b[39m value[\u001b[38;5;124m\"\u001b[39m\u001b[38;5;124malert\u001b[39m\u001b[38;5;124m\"\u001b[39m]\u001b[38;5;241m.\u001b[39mget(\u001b[38;5;124m\"\u001b[39m\u001b[38;5;124mtext\u001b[39m\u001b[38;5;124m\"\u001b[39m)\n\u001b[0;32m    228\u001b[0m     \u001b[38;5;28;01mraise\u001b[39;00m exception_class(message, screen, stacktrace, alert_text)  \u001b[38;5;66;03m# type: ignore[call-arg]  # mypy is not smart enough here\u001b[39;00m\n\u001b[1;32m--> 229\u001b[0m \u001b[38;5;28;01mraise\u001b[39;00m exception_class(message, screen, stacktrace)\n",
      "\u001b[1;31mNoSuchWindowException\u001b[0m: Message: no such window: target window already closed\nfrom unknown error: web view not found\n  (Session info: chrome=132.0.6834.84)\nStacktrace:\n\tGetHandleVerifier [0x00007FF701FEFBE5+28741]\n\t(No symbol) [0x00007FF701F57890]\n\t(No symbol) [0x00007FF701DF4FDA]\n\t(No symbol) [0x00007FF701DCED45]\n\t(No symbol) [0x00007FF701E76EC7]\n\t(No symbol) [0x00007FF701E8F982]\n\t(No symbol) [0x00007FF701E6FCB3]\n\t(No symbol) [0x00007FF701E39FB3]\n\t(No symbol) [0x00007FF701E3B331]\n\tGetHandleVerifier [0x00007FF70232A73D+3414941]\n\tGetHandleVerifier [0x00007FF70233E64A+3496618]\n\tGetHandleVerifier [0x00007FF70233413D+3454365]\n\tGetHandleVerifier [0x00007FF7020B848B+850155]\n\t(No symbol) [0x00007FF701F637FF]\n\t(No symbol) [0x00007FF701F5F0C4]\n\t(No symbol) [0x00007FF701F5F25D]\n\t(No symbol) [0x00007FF701F4E079]\n\tBaseThreadInitThunk [0x00007FFF3FF07374+20]\n\tRtlUserThreadStart [0x00007FFF4169CC91+33]\n"
     ]
    }
   ],
   "source": [
    "import os\n",
    "from selenium import webdriver\n",
    "from selenium.webdriver.common.by import By  # Import By from selenium.webdriver.common.by\n",
    "from selenium.webdriver.common.keys import Keys\n",
    "from selenium.webdriver.support.ui import WebDriverWait\n",
    "from selenium.webdriver.support import expected_conditions as EC\n",
    "\n",
    "\n",
    "# Ensure your WebDriver path is correctly set\n",
    "webdriver_path = r\"C:/Users/PMLS/Desktop/My program/Web Scraping/WebdriverSelenium\"\n",
    "os.environ['PATH'] += webdriver_path\n",
    "\n",
    "# Initialize Chrome WebDriver\n",
    "driver = webdriver.Chrome()\n",
    "driver.get(\"https://www.google.com\")\n",
    "\n",
    "# Wait for the search box to be present\n",
    "box = WebDriverWait(driver, 10).until(\n",
    "    EC.presence_of_element_located((By.XPATH, '//*[@id=\"APjFqb\"]'))\n",
    ")\n",
    "\n",
    "# Enter search query and press ENTER\n",
    "box.send_keys(\"House of Dragon\")\n",
    "box.send_keys(Keys.ENTER)  # Use Keys.ENTER to press the ENTER key\n",
    "\n",
    "# Wait until the element is clickable and then click it\n",
    "link = WebDriverWait(driver, 10).until(\n",
    "    EC.element_to_be_clickable((By.XPATH, \"\"\"//*[@id=\"kp-wp-tab-overview\"]/div[7]/div/div/div/div/div/div/div[1]/div/div/span/a\"\"\"))\n",
    ")\n",
    "link.click()\n",
    "\n",
    "driver.save_screenshot(r\"C:/Seleniumdrivers/dragon1.png\")\n"
   ]
  },
  {
   "cell_type": "code",
   "execution_count": 25,
   "id": "5057d628-ca28-4936-a4d2-894706ee6eeb",
   "metadata": {},
   "outputs": [],
   "source": [
    "import os\n",
    "from selenium import webdriver\n",
    "from selenium.webdriver.chrome.service import service\n",
    "from selenium.webdriver.common.by import By\n",
    "from selenium.webdriver.common.keys import Keys\n",
    "from selenium.webdriver.support.ui import WebDriverWait\n",
    "\n",
    "webdriver_path = r\"C:/Users/PMLS/Desktop/My program/Web Scraping/WebdriverSelenium\"\n",
    "os.environ += webdriver_path"
   ]
  },
  {
   "cell_type": "code",
   "execution_count": null,
   "id": "78a1e9b7-9ae7-41df-84f1-b5eb816a3182",
   "metadata": {},
   "outputs": [],
   "source": []
  },
  {
   "cell_type": "code",
   "execution_count": null,
   "id": "1fc52ded-44a4-4cb4-a18b-aee8bfe6e0b5",
   "metadata": {},
   "outputs": [],
   "source": []
  }
 ],
 "metadata": {
  "kernelspec": {
   "display_name": "Python 3 (ipykernel)",
   "language": "python",
   "name": "python3"
  },
  "language_info": {
   "codemirror_mode": {
    "name": "ipython",
    "version": 3
   },
   "file_extension": ".py",
   "mimetype": "text/x-python",
   "name": "python",
   "nbconvert_exporter": "python",
   "pygments_lexer": "ipython3",
   "version": "3.12.7"
  }
 },
 "nbformat": 4,
 "nbformat_minor": 5
}
