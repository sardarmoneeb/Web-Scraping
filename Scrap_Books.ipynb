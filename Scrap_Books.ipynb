{
 "cells": [
  {
   "cell_type": "code",
   "execution_count": 80,
   "id": "1db6899b-62dd-4837-bc0e-abedea7706e4",
   "metadata": {},
   "outputs": [
    {
     "ename": "NoSuchElementException",
     "evalue": "Message: no such element: Unable to locate element: {\"method\":\"xpath\",\"selector\":\"/html/body/div[1]/div[1]/div[1]/div[1]/div/span[1]/div[1]/div[1]/div/div/span/div/div/div[3]/div[1]/a\"}\n  (Session info: chrome=132.0.6834.84); For documentation on this error, please visit: https://www.selenium.dev/documentation/webdriver/troubleshooting/errors#no-such-element-exception\nStacktrace:\n\tGetHandleVerifier [0x00007FF7B55BFBE5+28741]\n\t(No symbol) [0x00007FF7B5527890]\n\t(No symbol) [0x00007FF7B53C4FDA]\n\t(No symbol) [0x00007FF7B5419322]\n\t(No symbol) [0x00007FF7B541954C]\n\t(No symbol) [0x00007FF7B5463337]\n\t(No symbol) [0x00007FF7B543FF4F]\n\t(No symbol) [0x00007FF7B54600B4]\n\t(No symbol) [0x00007FF7B543FCB3]\n\t(No symbol) [0x00007FF7B5409FB3]\n\t(No symbol) [0x00007FF7B540B331]\n\tGetHandleVerifier [0x00007FF7B58FA73D+3414941]\n\tGetHandleVerifier [0x00007FF7B590E64A+3496618]\n\tGetHandleVerifier [0x00007FF7B590413D+3454365]\n\tGetHandleVerifier [0x00007FF7B568848B+850155]\n\t(No symbol) [0x00007FF7B55337FF]\n\t(No symbol) [0x00007FF7B552F0C4]\n\t(No symbol) [0x00007FF7B552F25D]\n\t(No symbol) [0x00007FF7B551E079]\n\tBaseThreadInitThunk [0x00007FFB679C7374+20]\n\tRtlUserThreadStart [0x00007FFB681FCC91+33]\n",
     "output_type": "error",
     "traceback": [
      "\u001b[1;31m---------------------------------------------------------------------------\u001b[0m",
      "\u001b[1;31mNoSuchElementException\u001b[0m                    Traceback (most recent call last)",
      "Cell \u001b[1;32mIn[80], line 10\u001b[0m\n\u001b[0;32m      7\u001b[0m driver\u001b[38;5;241m.\u001b[39mget(\u001b[38;5;124m\"\u001b[39m\u001b[38;5;124mhttps://www.amazon.com/s?i=computers-intl-ship&bbn=16225007011&rh=n\u001b[39m\u001b[38;5;124m%\u001b[39m\u001b[38;5;124m3A16225007011\u001b[39m\u001b[38;5;124m%\u001b[39m\u001b[38;5;124m2Cn\u001b[39m\u001b[38;5;124m%\u001b[39m\u001b[38;5;124m3A193870011&qid=1737204794&xpid=n74WDEpLAvgXU&ref=sr_pg_2\u001b[39m\u001b[38;5;124m\"\u001b[39m)\n\u001b[0;32m      8\u001b[0m \u001b[38;5;28;01mfor\u001b[39;00m i \u001b[38;5;129;01min\u001b[39;00m \u001b[38;5;28mrange\u001b[39m(\u001b[38;5;241m1\u001b[39m,\u001b[38;5;241m33\u001b[39m):\n\u001b[0;32m      9\u001b[0m     \u001b[38;5;66;03m# name = driver.find_element(\"xpath\",f\"/html/body/div[1]/div[1]/div[1]/div[1]/div/span[1]/div[1]/div[{i}]/div/div/div/div/span/div/div/div[2]/div[1]/a\")\u001b[39;00m\n\u001b[1;32m---> 10\u001b[0m     name \u001b[38;5;241m=\u001b[39m driver\u001b[38;5;241m.\u001b[39mfind_element(\u001b[38;5;124m\"\u001b[39m\u001b[38;5;124mxpath\u001b[39m\u001b[38;5;124m\"\u001b[39m,\u001b[38;5;124mf\u001b[39m\u001b[38;5;124m\"\u001b[39m\u001b[38;5;124m/html/body/div[1]/div[1]/div[1]/div[1]/div/span[1]/div[1]/div[\u001b[39m\u001b[38;5;132;01m{\u001b[39;00mi\u001b[38;5;132;01m}\u001b[39;00m\u001b[38;5;124m]/div/div/span/div/div/div[3]/div[1]/a\u001b[39m\u001b[38;5;124m\"\u001b[39m)\n\u001b[0;32m     11\u001b[0m                                     \u001b[38;5;66;03m# /html/body/div[1]/div[1]/div[1]/div[1]/div/span[1]/div[1]/div[6]/div/div/span/div/div/div[2]/div[1]/a\u001b[39;00m\n\u001b[0;32m     12\u001b[0m                                     \u001b[38;5;66;03m# /html/body/div[1]/div[1]/div[1]/div[1]/div/span[1]/div[1]/div[{i}]/div/div/div/div/span/div/div/div[2]/div[1]/a\u001b[39;00m\n\u001b[0;32m     13\u001b[0m     \u001b[38;5;28mprint\u001b[39m(name\u001b[38;5;241m.\u001b[39mtext)\n",
      "File \u001b[1;32m~\\anaconda3\\Lib\\site-packages\\selenium\\webdriver\\remote\\webdriver.py:766\u001b[0m, in \u001b[0;36mWebDriver.find_element\u001b[1;34m(self, by, value)\u001b[0m\n\u001b[0;32m    763\u001b[0m         \u001b[38;5;28;01mraise\u001b[39;00m NoSuchElementException(\u001b[38;5;124mf\u001b[39m\u001b[38;5;124m\"\u001b[39m\u001b[38;5;124mCannot locate relative element with: \u001b[39m\u001b[38;5;132;01m{\u001b[39;00mby\u001b[38;5;241m.\u001b[39mroot\u001b[38;5;132;01m}\u001b[39;00m\u001b[38;5;124m\"\u001b[39m)\n\u001b[0;32m    764\u001b[0m     \u001b[38;5;28;01mreturn\u001b[39;00m elements[\u001b[38;5;241m0\u001b[39m]\n\u001b[1;32m--> 766\u001b[0m \u001b[38;5;28;01mreturn\u001b[39;00m \u001b[38;5;28mself\u001b[39m\u001b[38;5;241m.\u001b[39mexecute(Command\u001b[38;5;241m.\u001b[39mFIND_ELEMENT, {\u001b[38;5;124m\"\u001b[39m\u001b[38;5;124musing\u001b[39m\u001b[38;5;124m\"\u001b[39m: by, \u001b[38;5;124m\"\u001b[39m\u001b[38;5;124mvalue\u001b[39m\u001b[38;5;124m\"\u001b[39m: value})[\u001b[38;5;124m\"\u001b[39m\u001b[38;5;124mvalue\u001b[39m\u001b[38;5;124m\"\u001b[39m]\n",
      "File \u001b[1;32m~\\anaconda3\\Lib\\site-packages\\selenium\\webdriver\\remote\\webdriver.py:380\u001b[0m, in \u001b[0;36mWebDriver.execute\u001b[1;34m(self, driver_command, params)\u001b[0m\n\u001b[0;32m    378\u001b[0m response \u001b[38;5;241m=\u001b[39m \u001b[38;5;28mself\u001b[39m\u001b[38;5;241m.\u001b[39mcommand_executor\u001b[38;5;241m.\u001b[39mexecute(driver_command, params)\n\u001b[0;32m    379\u001b[0m \u001b[38;5;28;01mif\u001b[39;00m response:\n\u001b[1;32m--> 380\u001b[0m     \u001b[38;5;28mself\u001b[39m\u001b[38;5;241m.\u001b[39merror_handler\u001b[38;5;241m.\u001b[39mcheck_response(response)\n\u001b[0;32m    381\u001b[0m     response[\u001b[38;5;124m\"\u001b[39m\u001b[38;5;124mvalue\u001b[39m\u001b[38;5;124m\"\u001b[39m] \u001b[38;5;241m=\u001b[39m \u001b[38;5;28mself\u001b[39m\u001b[38;5;241m.\u001b[39m_unwrap_value(response\u001b[38;5;241m.\u001b[39mget(\u001b[38;5;124m\"\u001b[39m\u001b[38;5;124mvalue\u001b[39m\u001b[38;5;124m\"\u001b[39m, \u001b[38;5;28;01mNone\u001b[39;00m))\n\u001b[0;32m    382\u001b[0m     \u001b[38;5;28;01mreturn\u001b[39;00m response\n",
      "File \u001b[1;32m~\\anaconda3\\Lib\\site-packages\\selenium\\webdriver\\remote\\errorhandler.py:229\u001b[0m, in \u001b[0;36mErrorHandler.check_response\u001b[1;34m(self, response)\u001b[0m\n\u001b[0;32m    227\u001b[0m         alert_text \u001b[38;5;241m=\u001b[39m value[\u001b[38;5;124m\"\u001b[39m\u001b[38;5;124malert\u001b[39m\u001b[38;5;124m\"\u001b[39m]\u001b[38;5;241m.\u001b[39mget(\u001b[38;5;124m\"\u001b[39m\u001b[38;5;124mtext\u001b[39m\u001b[38;5;124m\"\u001b[39m)\n\u001b[0;32m    228\u001b[0m     \u001b[38;5;28;01mraise\u001b[39;00m exception_class(message, screen, stacktrace, alert_text)  \u001b[38;5;66;03m# type: ignore[call-arg]  # mypy is not smart enough here\u001b[39;00m\n\u001b[1;32m--> 229\u001b[0m \u001b[38;5;28;01mraise\u001b[39;00m exception_class(message, screen, stacktrace)\n",
      "\u001b[1;31mNoSuchElementException\u001b[0m: Message: no such element: Unable to locate element: {\"method\":\"xpath\",\"selector\":\"/html/body/div[1]/div[1]/div[1]/div[1]/div/span[1]/div[1]/div[1]/div/div/span/div/div/div[3]/div[1]/a\"}\n  (Session info: chrome=132.0.6834.84); For documentation on this error, please visit: https://www.selenium.dev/documentation/webdriver/troubleshooting/errors#no-such-element-exception\nStacktrace:\n\tGetHandleVerifier [0x00007FF7B55BFBE5+28741]\n\t(No symbol) [0x00007FF7B5527890]\n\t(No symbol) [0x00007FF7B53C4FDA]\n\t(No symbol) [0x00007FF7B5419322]\n\t(No symbol) [0x00007FF7B541954C]\n\t(No symbol) [0x00007FF7B5463337]\n\t(No symbol) [0x00007FF7B543FF4F]\n\t(No symbol) [0x00007FF7B54600B4]\n\t(No symbol) [0x00007FF7B543FCB3]\n\t(No symbol) [0x00007FF7B5409FB3]\n\t(No symbol) [0x00007FF7B540B331]\n\tGetHandleVerifier [0x00007FF7B58FA73D+3414941]\n\tGetHandleVerifier [0x00007FF7B590E64A+3496618]\n\tGetHandleVerifier [0x00007FF7B590413D+3454365]\n\tGetHandleVerifier [0x00007FF7B568848B+850155]\n\t(No symbol) [0x00007FF7B55337FF]\n\t(No symbol) [0x00007FF7B552F0C4]\n\t(No symbol) [0x00007FF7B552F25D]\n\t(No symbol) [0x00007FF7B551E079]\n\tBaseThreadInitThunk [0x00007FFB679C7374+20]\n\tRtlUserThreadStart [0x00007FFB681FCC91+33]\n"
     ]
    }
   ],
   "source": [
    "import os\n",
    "from selenium import webdriver\n",
    "from selenium.webdriver.common.by import By\n",
    "webdriver_path = r\"C:/Users/PMLS/Desktop/My program/Web Scraping/WebdriverSelenium/chrome-win64\"\n",
    "os.environ['PATH']+= webdriver_path\n",
    "driver = webdriver.Chrome()\n",
    "driver.get(\"https://www.amazon.com/s?i=computers-intl-ship&bbn=16225007011&rh=n%3A16225007011%2Cn%3A193870011&qid=1737204794&xpid=n74WDEpLAvgXU&ref=sr_pg_2\")\n",
    "for i in range(1,33):\n",
    "    # name = driver.find_element(\"xpath\",f\"/html/body/div[1]/div[1]/div[1]/div[1]/div/span[1]/div[1]/div[{i}]/div/div/div/div/span/div/div/div[2]/div[1]/a\")\n",
    "    name = driver.find_element(\"xpath\",f\"/html/body/div[1]/div[1]/div[1]/div[1]/div/span[1]/div[1]/div[{i}]/div/div/span/div/div/div[3]/div[1]/a\")\n",
    "                                    # /html/body/div[1]/div[1]/div[1]/div[1]/div/span[1]/div[1]/div[6]/div/div/span/div/div/div[2]/div[1]/a\n",
    "                                    # /html/body/div[1]/div[1]/div[1]/div[1]/div/span[1]/div[1]/div[{i}]/div/div/div/div/span/div/div/div[2]/div[1]/a\n",
    "    print(name.text)\n",
    "    # print(i)"
   ]
  },
  {
   "cell_type": "code",
   "execution_count": 90,
   "id": "86b225ea-95f2-4767-9427-ff88e9156c80",
   "metadata": {},
   "outputs": [
    {
     "name": "stdout",
     "output_type": "stream",
     "text": [
      "A Light in the ...\n",
      "£51.77\n",
      "Tipping the Velvet\n",
      "£53.74\n",
      "Soumission\n",
      "£50.10\n",
      "Sharp Objects\n",
      "£47.82\n",
      "Sapiens: A Brief History ...\n",
      "£54.23\n",
      "The Requiem Red\n",
      "£22.65\n",
      "The Dirty Little Secrets ...\n",
      "£33.34\n",
      "The Coming Woman: A ...\n",
      "£17.93\n",
      "The Boys in the ...\n",
      "£22.60\n",
      "The Black Maria\n",
      "£52.15\n",
      "Starving Hearts (Triangular Trade ...\n",
      "£13.99\n",
      "Shakespeare's Sonnets\n",
      "£20.66\n",
      "Set Me Free\n",
      "£17.46\n",
      "Scott Pilgrim's Precious Little ...\n",
      "£52.29\n",
      "Rip it Up and ...\n",
      "£35.02\n",
      "Our Band Could Be ...\n",
      "£57.25\n",
      "Olio\n",
      "£23.88\n",
      "Mesaerion: The Best Science ...\n",
      "£37.59\n",
      "Libertarianism for Beginners\n",
      "£51.33\n",
      "It's Only the Himalayas\n",
      "£45.17\n"
     ]
    }
   ],
   "source": [
    "import os\n",
    "import time\n",
    "import random\n",
    "from selenium import webdriver\n",
    "from selenium.webdriver.common.by import By\n",
    "\n",
    "# Set the webdriver path\n",
    "webdriver_path = r\"C:/Users/PMLS/Desktop/My program/Web Scraping/WebdriverSelenium/chrome-win64\"\n",
    "os.environ['PATH'] += webdriver_path\n",
    "\n",
    "# Initialize the Chrome WebDriver\n",
    "driver = webdriver.Chrome()\n",
    "\n",
    "# Open the Amazon page\n",
    "driver.get(\"https://books.toscrape.com/catalogue/page-1.html\")\n",
    "\n",
    "# Loop through product listings (1 to 32)\n",
    "for i in range(1,21):\n",
    "    # Find the product name using XPath\n",
    "    name = driver.find_element(\"xpath\",f\"/html/body/div/div/div/div/section/div[2]/ol/li[{i}]/article/h3/a\")\n",
    "    #                                    /html/body/div/div/div/div/section/div[2]/ol/li[2]/article/h3/a\n",
    "    # name = driver.find_element(\"xpath\", f\"/html/body/div[1]/div[1]/div[1]/div[1]/div/span[1]/div[1]/div[{i}]/div/div/span/div/div/div[3]/div[1]/a\")\n",
    "    print(name.text)  # Print the product name\n",
    "    price = driver.find_element(\"xpath\",f\"/html/body/div/div/div/div/section/div[2]/ol/li[{i}]/article/div[2]/p[1]\")\n",
    "                                       # /html/body/div/div/div/div/section/div[2]/ol/li[2]/article/div[2]/p[1]\n",
    "    print(price.text)\n",
    "\n",
    "    # Random delay between 2 and 5 seconds to mimic human browsing\n",
    "    # time.sleep(random.uniform(2, 5))  # Random delay between 2 and 5 seconds\n"
   ]
  },
  {
   "cell_type": "code",
   "execution_count": 92,
   "id": "25b98f6c-9f1a-4924-ae14-114c84aa7618",
   "metadata": {},
   "outputs": [
    {
     "name": "stdout",
     "output_type": "stream",
     "text": [
      "Data extraction completed and saved to 'books_data.csv'.\n"
     ]
    }
   ],
   "source": [
    "import os\n",
    "import time\n",
    "import random\n",
    "import csv\n",
    "from selenium import webdriver\n",
    "from selenium.webdriver.common.by import By\n",
    "\n",
    "# Set the webdriver path\n",
    "webdriver_path = r\"C:/Users/PMLS/Desktop/My program/Web Scraping/WebdriverSelenium/chrome-win64\"\n",
    "os.environ['PATH'] += webdriver_path\n",
    "\n",
    "# Initialize the Chrome WebDriver\n",
    "driver = webdriver.Chrome()\n",
    "\n",
    "# Open the first page of the site\n",
    "base_url = \"https://books.toscrape.com/catalogue/page-{}.html\"\n",
    "\n",
    "# Open CSV file in write mode and set up the header\n",
    "with open('books_data.csv', mode='w', newline='', encoding='utf-8') as file:\n",
    "    writer = csv.writer(file)\n",
    "    writer.writerow(['Book Title', 'Price'])  # Writing headers to the CSV\n",
    "\n",
    "    # Loop through 50 pages\n",
    "    for page_num in range(1, 51):\n",
    "        # Open the current page\n",
    "        driver.get(base_url.format(page_num))\n",
    "        \n",
    "        # Wait for the page to load completely\n",
    "        time.sleep(random.uniform(2, 5))  # Adding a random delay\n",
    "\n",
    "        # Loop through all products on the current page\n",
    "        for i in range(1, 21):  # Each page has 20 products\n",
    "            try:\n",
    "                # Find the book title and price using XPath\n",
    "                name = driver.find_element(\"xpath\", f\"/html/body/div/div/div/div/section/div[2]/ol/li[{i}]/article/h3/a\")\n",
    "                price = driver.find_element(\"xpath\", f\"/html/body/div/div/div/div/section/div[2]/ol/li[{i}]/article/div[2]/p[1]\")\n",
    "\n",
    "                # Extract the text\n",
    "                book_title = name.text\n",
    "                book_price = price.text\n",
    "\n",
    "                # Write the data to the CSV file\n",
    "                writer.writerow([book_title, book_price])\n",
    "                \n",
    "            except Exception as e:\n",
    "                print(f\"Error extracting data for item {i} on page {page_num}: {e}\")\n",
    "                continue  # Skip if an error occurs for a specific product\n",
    "\n",
    "# Close the browser after scraping is done\n",
    "driver.quit()\n",
    "\n",
    "print(\"Data extraction completed and saved to 'books_data.csv'.\")\n"
   ]
  },
  {
   "cell_type": "code",
   "execution_count": null,
   "id": "56fb57f2-df98-4f35-83f8-05ef470fa7b3",
   "metadata": {},
   "outputs": [],
   "source": []
  }
 ],
 "metadata": {
  "kernelspec": {
   "display_name": "Python 3 (ipykernel)",
   "language": "python",
   "name": "python3"
  },
  "language_info": {
   "codemirror_mode": {
    "name": "ipython",
    "version": 3
   },
   "file_extension": ".py",
   "mimetype": "text/x-python",
   "name": "python",
   "nbconvert_exporter": "python",
   "pygments_lexer": "ipython3",
   "version": "3.12.7"
  }
 },
 "nbformat": 4,
 "nbformat_minor": 5
}
